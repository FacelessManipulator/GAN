{
 "cells": [
  {
   "cell_type": "code",
   "execution_count": 1,
   "metadata": {
    "collapsed": true
   },
   "outputs": [],
   "source": [
    "import scrapy\n",
    "import re\n",
    "import os\n",
    "\n",
    "from scrapy import cmdline\n",
    "from scrapy import Request"
   ]
  },
  {
   "cell_type": "code",
   "execution_count": 2,
   "metadata": {
    "collapsed": true
   },
   "outputs": [],
   "source": [
    "seed = 'http://bangumi.tv/character?gender=2'\n",
    "f = open('ch.txt','wb')"
   ]
  },
  {
   "cell_type": "code",
   "execution_count": 3,
   "metadata": {
    "collapsed": false
   },
   "outputs": [
    {
     "name": "stdout",
     "output_type": "stream",
     "text": [
      "Help on built-in function write:\n",
      "\n",
      "write(buffer, /) method of _io.BufferedWriter instance\n",
      "    Write the given buffer to the IO stream.\n",
      "    \n",
      "    Returns the number of bytes written, which is always the length of b\n",
      "    in bytes.\n",
      "    \n",
      "    Raises BlockingIOError if the buffer is full and the\n",
      "    underlying raw stream cannot accept more data at the moment.\n",
      "\n"
     ]
    }
   ],
   "source": [
    "help(f.write)\n",
    "    "
   ]
  },
  {
   "cell_type": "code",
   "execution_count": null,
   "metadata": {
    "collapsed": true
   },
   "outputs": [],
   "source": [
    "class CharSpider(scrapy.Spider):\n",
    "    name = \"Charactor spider\"\n",
    "    allowed_domins = ['http://bangumi.tv']\n",
    "    start_urls = (\n",
    "        seed,\n",
    "    )\n",
    "    def parse(self, response):\n",
    "        print(response)\n",
    "        "
   ]
  },
  {
   "cell_type": "code",
   "execution_count": null,
   "metadata": {
    "collapsed": true
   },
   "outputs": [],
   "source": [
    "# os.chdir('sxxx')\n",
    "cmdline.execute(\"scrapy crawl xskb\".split())"
   ]
  }
 ],
 "metadata": {
  "kernelspec": {
   "display_name": "Python 3",
   "language": "python",
   "name": "python3"
  },
  "language_info": {
   "codemirror_mode": {
    "name": "ipython",
    "version": 3
   },
   "file_extension": ".py",
   "mimetype": "text/x-python",
   "name": "python",
   "nbconvert_exporter": "python",
   "pygments_lexer": "ipython3",
   "version": "3.6.0"
  }
 },
 "nbformat": 4,
 "nbformat_minor": 2
}
